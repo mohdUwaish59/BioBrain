{
 "cells": [
  {
   "cell_type": "code",
   "execution_count": 10,
   "metadata": {},
   "outputs": [],
   "source": [
    "import pandas as pd\n",
    "import matplotlib.pyplot as plt\n",
    "import seaborn as sns\n",
    "import numpy as np\n",
    "#import ace_tools as tools  # For displaying the DataFrame"
   ]
  },
  {
   "cell_type": "code",
   "execution_count": null,
   "metadata": {},
   "outputs": [],
   "source": [
    "# Load the dataset (Assuming it's in CSV format)\n",
    "dataset_path = \"dataset/data.csv\"  # Replace with your actual file path\n",
    "df = pd.read_csv(dataset_path)\n",
    "\n",
    "# Display the first few rows to check the structure\n",
    "print(\"Dataset Head:\")\n",
    "print(df.head())\n",
    "\n",
    "# Check the column names to ensure the \"subject\" column exists\n",
    "print(\"\\nAvailable Columns:\", df.columns)\n",
    "\n",
    "# Filter the dataset to keep only Biology questions\n",
    "biology_df = df[df[\"subject\"] == \"Biology\"]\n",
    "\n",
    "# Save the filtered dataset\n",
    "filtered_dataset_path = \"dataset/biology_questions.csv\"\n",
    "biology_df.to_csv(filtered_dataset_path, index=False)\n",
    "\n",
    "print(f\"\\nFiltered Biology dataset saved as: {filtered_dataset_path}\")"
   ]
  },
  {
   "cell_type": "code",
   "execution_count": 11,
   "metadata": {},
   "outputs": [
    {
     "name": "stdout",
     "output_type": "stream",
     "text": [
      "Dataset Preview:\n",
      "                                                 eng  Subject\n",
      "0  An anti-forest measure is\\nA. Afforestation\\nB...  Biology\n",
      "1  In recent year, there has been a growing\\nconc...  Biology\n",
      "2  Fern plants reproduce by\\nA. Seeds\\nB. Spores\\...  Biology\n",
      "3     Write an essay on growth regulation in plants.  Biology\n",
      "4  What is the function of pericardial fluid and ...  Biology\n"
     ]
    }
   ],
   "source": [
    "dataset_path = \"dataset/biology_questions.csv\"  # Replace with your actual path\n",
    "df = pd.read_csv(dataset_path)\n",
    "\n",
    "# 1️⃣ Check the first few rows\n",
    "print(\"Dataset Preview:\")\n",
    "print(df.head())"
   ]
  },
  {
   "cell_type": "code",
   "execution_count": 12,
   "metadata": {},
   "outputs": [
    {
     "name": "stdout",
     "output_type": "stream",
     "text": [
      "\n",
      "Missing Values Per Column:\n",
      " eng        0\n",
      "Subject    0\n",
      "dtype: int64\n"
     ]
    }
   ],
   "source": [
    "# 2️⃣ Check for missing values\n",
    "missing_values = df.isnull().sum()\n",
    "print(\"\\nMissing Values Per Column:\\n\", missing_values)\n"
   ]
  },
  {
   "cell_type": "code",
   "execution_count": 13,
   "metadata": {},
   "outputs": [
    {
     "name": "stdout",
     "output_type": "stream",
     "text": [
      "\n",
      "Column Data Types:\n",
      "eng        object\n",
      "Subject    object\n",
      "dtype: object\n"
     ]
    }
   ],
   "source": [
    "# 3️⃣ Check data types\n",
    "print(\"\\nColumn Data Types:\")\n",
    "print(df.dtypes)"
   ]
  },
  {
   "cell_type": "code",
   "execution_count": 14,
   "metadata": {},
   "outputs": [
    {
     "name": "stdout",
     "output_type": "stream",
     "text": [
      "\n",
      "Total Duplicate Rows: 30\n"
     ]
    }
   ],
   "source": [
    "# 4️⃣ Check for duplicate rows\n",
    "duplicate_count = df.duplicated().sum()\n",
    "print(f\"\\nTotal Duplicate Rows: {duplicate_count}\")"
   ]
  },
  {
   "cell_type": "code",
   "execution_count": 15,
   "metadata": {},
   "outputs": [
    {
     "name": "stdout",
     "output_type": "stream",
     "text": [
      "\n",
      "Summary Statistics for Categorical Columns:\n",
      "                                                      eng  Subject\n",
      "count                                               13124    13124\n",
      "unique                                              13094        1\n",
      "top     Carotid artery supplies\\nA. Oxygenated blood t...  Biology\n",
      "freq                                                    2    13124\n"
     ]
    }
   ],
   "source": [
    "# 5️⃣ Summary statistics for categorical columns\n",
    "print(\"\\nSummary Statistics for Categorical Columns:\")\n",
    "print(df.describe(include=[\"O\"]))  # \"O\" refers to object (categorical) type columns\n"
   ]
  },
  {
   "cell_type": "code",
   "execution_count": 17,
   "metadata": {},
   "outputs": [
    {
     "name": "stdout",
     "output_type": "stream",
     "text": [
      "\n",
      "Unique values in 'Subject': 1\n",
      "['Biology']\n"
     ]
    }
   ],
   "source": [
    "# 6️⃣ Unique values in key columns\n",
    "columns_to_check = [\"Subject\"]\n",
    "for col in columns_to_check:\n",
    "    print(f\"\\nUnique values in '{col}': {df[col].nunique()}\")\n",
    "    print(df[col].unique())"
   ]
  },
  {
   "cell_type": "code",
   "execution_count": 19,
   "metadata": {},
   "outputs": [
    {
     "data": {
      "image/png": "[encoded data removed]",
      "text/plain": [
       "<Figure size 800x500 with 1 Axes>"
      ]
     },
     "metadata": {},
     "output_type": "display_data"
    }
   ],
   "source": [
    "# 9️⃣ Text Length Analysis (Question Length Distribution)\n",
    "df[\"question_length\"] = df[\"eng\"].apply(lambda x: len(str(x)))\n",
    "plt.figure(figsize=(8, 5))\n",
    "sns.histplot(df[\"question_length\"], bins=30, kde=True)\n",
    "plt.title(\"Distribution of Question Lengths\")\n",
    "plt.xlabel(\"Question Length\")\n",
    "plt.ylabel(\"Frequency\")\n",
    "plt.show()"
   ]
  },
  {
   "cell_type": "code",
   "execution_count": 20,
   "metadata": {},
   "outputs": [
    {
     "data": {
      "text/plain": [
       "eng                An anti-forest measure is\\nA. Afforestation\\nB...\n",
       "Subject                                                      Biology\n",
       "question_length                                                  104\n",
       "Name: 0, dtype: object"
      ]
     },
     "execution_count": 20,
     "metadata": {},
     "output_type": "execute_result"
    }
   ],
   "source": [
    "df.iloc[0]"
   ]
  },
  {
   "cell_type": "code",
   "execution_count": 22,
   "metadata": {},
   "outputs": [
    {
     "name": "stdout",
     "output_type": "stream",
     "text": [
      "\n",
      "Cleaned dataset saved as: biology_questions_cleaned.csv\n"
     ]
    }
   ],
   "source": [
    "import pandas as pd\n",
    "import re\n",
    "\n",
    "# Load dataset\n",
    "dataset_path = \"dataset/biology_questions.csv\"  # Replace with actual file path\n",
    "df = pd.read_csv(dataset_path)\n",
    "\n",
    "# Function to extract question and options\n",
    "def extract_question_options(text):\n",
    "    # Define regex pattern to match options (A., B., C., ...)\n",
    "    pattern = r\"\\n([A-J])\\.\\s*\"  \n",
    "\n",
    "    # Find all option markers (A., B., C., etc.)\n",
    "    matches = list(re.finditer(pattern, text))\n",
    "\n",
    "    if not matches:\n",
    "        return text, {}  # Return full text as question if no options are found\n",
    "\n",
    "    # Extract question (before first option)\n",
    "    question = text[: matches[0].start()].strip()\n",
    "\n",
    "    # Extract options\n",
    "    options = {}\n",
    "    for i in range(len(matches)):\n",
    "        option_letter = matches[i].group(1)  # Get the letter (A, B, C, etc.)\n",
    "        start_pos = matches[i].end()  # Start position of option text\n",
    "        end_pos = matches[i + 1].start() if i + 1 < len(matches) else len(text)  # End position\n",
    "\n",
    "        options[option_letter] = text[start_pos:end_pos].strip()  # Store option text\n",
    "\n",
    "    return question, options\n",
    "\n",
    "# Apply function to dataset\n",
    "questions = []\n",
    "options_dicts = []\n",
    "\n",
    "for text in df[\"eng\"]:\n",
    "    question, options = extract_question_options(text)\n",
    "    questions.append(question)\n",
    "    options_dicts.append(options)\n",
    "\n",
    "# Convert options dictionary to DataFrame\n",
    "options_df = pd.DataFrame(options_dicts).fillna(\"\")\n",
    "\n",
    "# Merge with original dataset\n",
    "df_cleaned = df.copy()\n",
    "df_cleaned[\"Question\"] = questions\n",
    "df_cleaned = pd.concat([df_cleaned, options_df], axis=1)\n",
    "\n",
    "# Drop original \"eng\" column\n",
    "df_cleaned = df_cleaned.drop(columns=[\"eng\"])\n",
    "\n",
    "# Save the cleaned dataset\n",
    "cleaned_dataset_path = \"biology_questions_cleaned.csv\"\n",
    "df_cleaned.to_csv(cleaned_dataset_path, index=False)\n",
    "print(f\"\\nCleaned dataset saved as: {cleaned_dataset_path}\")\n"
   ]
  },
  {
   "cell_type": "code",
   "execution_count": 2,
   "metadata": {},
   "outputs": [],
   "source": [
    "from langchain_community.document_loaders import PDFMinerLoader\n",
    "\n",
    "loader = PDFMinerLoader(\"dataset/data/kebo101.pdf\")\n",
    "data = loader.load()"
   ]
  },
  {
   "cell_type": "code",
   "execution_count": 1,
   "metadata": {},
   "outputs": [],
   "source": [
    "import re\n",
    "import logging\n",
    "from langchain.text_splitter import TokenTextSplitter\n",
    "from langchain.schema import Document\n",
    "\n",
    "# Setup logging\n",
    "logging.basicConfig(filename=\"logs/text_processing.log\", level=logging.INFO, format=\"%(asctime)s - %(levelname)s - %(message)s\")\n",
    "\n",
    "class TextProcessor:\n",
    "    def __init__(self, encoding=\"gpt2\", chunk_size=512, chunk_overlap=100):\n",
    "        \"\"\"\n",
    "        Initializes text processor with TokenTextSplitter.\n",
    "        \"\"\"\n",
    "        self.text_splitter = TokenTextSplitter(\n",
    "            encoding_name=encoding,\n",
    "            chunk_size=chunk_size,\n",
    "            chunk_overlap=chunk_overlap\n",
    "        )\n",
    "        logging.info(f\"✅ Initialized TokenTextSplitter with chunk_size={chunk_size}, chunk_overlap={chunk_overlap}\")\n",
    "\n",
    "    def extract_metadata(self, text):\n",
    "        \"\"\"\n",
    "        Extracts metadata such as chapter number, chapter name, and section titles.\n",
    "        \"\"\"\n",
    "        try:\n",
    "            # Find Chapter Number\n",
    "            chapter_match = re.search(r\"Chapter\\s+(\\d+)\", text, re.IGNORECASE)\n",
    "            chapter_number = chapter_match.group(1) if chapter_match else \"Unknown\"\n",
    "\n",
    "            # Find Chapter Name (line after \"Chapter X\")\n",
    "            chapter_name_match = re.search(rf\"Chapter\\s+{chapter_number}\\s*\\n(.*?)\\n\", text, re.IGNORECASE)\n",
    "            chapter_name = chapter_name_match.group(1).strip() if chapter_name_match else \"Unknown\"\n",
    "\n",
    "            # Find Section Titles (e.g., 2.1, 2.2, or \"Introduction\")\n",
    "            section_match = re.search(r\"(\\d+\\.\\d+|Introduction|Summary)\", text, re.IGNORECASE)\n",
    "            section_title = section_match.group(0) if section_match else \"General\"\n",
    "\n",
    "            return {\"chapter\": chapter_number, \"chapter_name\": chapter_name, \"section\": section_title}\n",
    "\n",
    "        except Exception as e:\n",
    "            logging.error(f\"❌ Error extracting metadata: {str(e)}\", exc_info=True)\n",
    "            return {\"chapter\": \"Unknown\", \"chapter_name\": \"Unknown\", \"section\": \"General\"}\n",
    "\n",
    "    def split_text(self, text):\n",
    "        \"\"\"\n",
    "        Splits cleaned text into smaller token-based chunks with metadata.\n",
    "        \"\"\"\n",
    "        try:\n",
    "            metadata = self.extract_metadata(text)\n",
    "            cleaned_text = self.clean_text(text)\n",
    "            chunks = self.text_splitter.split_text(cleaned_text)\n",
    "\n",
    "            # Convert chunks into `Document` objects with metadata\n",
    "            doc_chunks = [Document(page_content=chunk, metadata=metadata) for chunk in chunks]\n",
    "\n",
    "            logging.info(f\"✅ Successfully split text into {len(doc_chunks)} chunks with metadata.\")\n",
    "            return doc_chunks\n",
    "        except Exception as e:\n",
    "            logging.error(f\"❌ Failed to split text: {str(e)}\", exc_info=True)\n",
    "            return []\n"
   ]
  },
  {
   "cell_type": "code",
   "execution_count": 5,
   "metadata": {},
   "outputs": [],
   "source": [
    "tt = TextProcessor()"
   ]
  },
  {
   "cell_type": "code",
   "execution_count": 6,
   "metadata": {},
   "outputs": [],
   "source": [
    "text = \"\"\"  \n",
    "C HAPTER 1\n",
    "1.1 Diversity in the\n",
    "Living World\n",
    "1.2 Taxonomic\n",
    "Categories\n",
    "2024-25\n",
    "4 BIOLOGY\n",
    "types of organisms present on earth. We should remember here that as\n",
    "we explore new areas, and even old ones, new organisms are continuously\n",
    "being identified.\n",
    "As stated earlier, there are millions of plants and animals in the world;\n",
    "we know the plants and animals in our own area by their local names.\n",
    "These local names would vary from place to place, even within a country.\n",
    "Probably you would recognise the confusion that would be created if we\n",
    "did not find ways and means to talk to each other, to refer to organisms\n",
    "we are talking about.\n",
    "Hence, there is a need to standardise the naming of living organisms\n",
    "such that a particular organism is known by the same name all over the\n",
    "world. This process is called nomenclature. Obviously, nomenclature\n",
    "or naming is only possible when the organism is described correctly and\n",
    "we know to what organism the name is attached to. This isidentification.\n",
    "In order to facilitate the study, number of scientists have established\n",
    "procedures to assign a scientific name to each known organism. This is\n",
    "acceptable to biologists all over the world. For plants, scientific names are\n",
    "based on agreed principles and criteria, which are provided in International\n",
    "Code for Botanical Nomenclature (ICBN). You may ask, how are animals\n",
    "named? Animal taxonomists have evolved International Code of Zoological\n",
    "Nomenclature (ICZN). The scientific names ensure that each organism\n",
    "has only one name. Description of any organism should enable the people\n",
    "(in any part of the world) to arrive at the same name. They also ensure\n",
    "that such a name has not been used for any other known organism.\n",
    "Biologists follow universally accepted principles to provide scientific\n",
    "names to known organisms. Each name has two components – the\n",
    "Generic name and the specific epithet. This system of providing a\n",
    "name with two components is called Binomial nomenclature. This\n",
    "naming system given by Carolus Linnaeus is being practised by biologists\n",
    "all over the world. This naming system using a two word format was\n",
    "found convenient. Let us take the example of mango to understand the\n",
    "way of providing scientific names better. The scientific name of mango is\n",
    "written as Mangifera indica. Let us see how it is a binomial name. In this\n",
    "name Mangifera represents the genus while indica, is a particular species,\n",
    "or a specific epithet. Other universal rules of nomenclature are as follows:\n",
    "1. Biological names are generally in Latin and written in italics.\n",
    "They are Latinised or derived from Latin irrespective of their\n",
    "origin.\n",
    "2. The first word in a biological name represents the genus while\n",
    "the second component denotes the specific epithet.\n",
    "3. Both the words in a biological name, when handwritten, are\n",
    "separately underlined, or printed in italics to indicate their Latin\n",
    "origin.\n",
    "2024-25\n",
    "THE LIVING WORLD 5\n",
    "4. The first word denoting the genus starts with a capital letter\n",
    "while the specific epithet starts with a small letter. It can be\n",
    "illustrated with the example of Mangifera indica.\n",
    "Name of the author appears after the specific epithet, i.e., at the end of\n",
    "the biological name and is written in an abbreviated form, e.g., Mangifera\n",
    "indica Linn. It indicates that this species was first described by Linnaeus.\n",
    "Since it is nearly impossible to study all the living organisms, it is\n",
    "necessary to devise some means to make this possible. This process is\n",
    "classification. Classification is the process by which anything is grouped\n",
    "into convenient categories based on some easily observable characters.\n",
    "For example, we easily recognise groups such as plants or animals or\n",
    "dogs, cats or insects. The moment we use any of these terms, we associate\n",
    "certain characters with the organism in that group. What image do you\n",
    "see when you think of a dog ? Obviously, each one of us will see ‘dogs’\n",
    "and not ‘cats’. Now, if we were to think of ‘Alsatians’ we know what we are\n",
    "talking about. Similarly, suppose we were to say ‘mammals’, you would,\n",
    "of course, think of animals with external ears and body hair. Likewise, in\n",
    "plants, if we try to talk of ‘Wheat’, the picture in each of our minds will be\n",
    "of wheat plants, not of rice or any other plant. Hence, all these - ‘Dogs’,\n",
    "‘Cats’, ‘Mammals’, ‘Wheat’, ‘Rice’, ‘Plants’, ‘Animals’, etc., are convenient\n",
    "categories we use to study organisms. The scientific term for these\n",
    "categories is taxa. Here you must recognise that taxa can indicate\n",
    "categories at very different levels. ‘Plants’ – also form a taxa. ‘Wheat’ is\n",
    "also a taxa. Similarly, ‘animals’, ‘mammals’, ‘dogs’ are all taxa – but you\n",
    "know that a dog is a mammal and mammals are animals. Therefore,\n",
    "‘animals’, ‘mammals’ and ‘dogs’ represent taxa at different levels.\n",
    "Hence, based on characteristics, all living organisms can be classified\n",
    "into different taxa. This process of classification is taxonomy. External\n",
    "and internal structure, along with the structure of cell, development\n",
    "process and ecological information of organisms are essential and form\n",
    "the basis of modern taxonomic studies.\n",
    "Hence, characterisation, identification, classification and nomenclature\n",
    "are the processes that are basic to taxonomy.\n",
    "Taxonomy is not something new. Human beings have always been\n",
    "interested in knowing more and more about the various kinds of\n",
    "organisms, particularly with reference to their own use. In early days,\n",
    "human beings needed to find sources for their basic needs of food, clothing\n",
    "and shelter. Hence, the earliest classifications were based on the ‘uses’ of\n",
    "various organisms.\n",
    "Human beings were, since long, not only interested in knowing more\n",
    "about different kinds of organisms and their diversities, but also the\n",
    "relationships among them. This branch of study was referred to as\n",
    "systematics. The word systematics is derived from the Latin word\n",
    "‘systema’ which means systematic arrangement of organisms. Linnaeus\n",
    "2024-25\n",
    "6 BIOLOGY\n",
    "used Systema Naturae as the title of his publication. The scope of\n",
    "systematics was later enlarged to include identification, nomenclature\n",
    "and classification. Systematics takes into account evolutionary\n",
    "relationships between organisms.\n",
    "1.2 TAXONOMIC CATEGORIES\n",
    "Classification is not a single step process but involves hierarchy of steps\n",
    "in which each step represents a rank or category. Since the category is a\n",
    "part of overall taxonomic arrangement, it is called the taxonomic category\n",
    "and all categories together constitute the taxonomic hierarchy. Each\n",
    "category, referred to as a unit of classification, in fact, represents a rank\n",
    "and is commonly termed as taxon (pl.: taxa).\n",
    "Taxonomic categories and hierarchy can be illustrated by an example.\n",
    "Insects represent a group of organisms sharing common features like\n",
    "three pairs of jointed legs. It means insects are recognisable concrete\n",
    "objects which can be classified, and thus were given a rank or category.\n",
    "Can you name other such groups of organisms? Remember, groups\n",
    "represent category. Category further denotes rank. Each rank or taxon,\n",
    "in fact, represents a unit of classification. These taxonomic groups/\n",
    "categories are distinct biological entities and not merely morphological\n",
    "aggregates.\n",
    "Taxonomical studies of all known organisms have led to the\n",
    "development of common categories such as kingdom, phylum or division\n",
    "(for plants), class, order, family, genus and species. All organisms,\n",
    "including those in the plant and animal kingdoms have species as the\n",
    "lowest category. Now the question you may ask is, how to place an\n",
    "organism in various categories? The basic requirement is the knowledge\n",
    "of characters of an individual or group of organisms. This helps in\n",
    "identifying similarities and dissimilarities among the individuals of the\n",
    "same kind of organisms as well as of other kinds of organisms.\n",
    "1.2.1 Species\n",
    "Taxonomic studies consider a group of individual organisms with\n",
    "fundamental similarities as a species. One should be able to distinguish\n",
    "one species from the other closely related species based on the distinct\n",
    "morphological differences. Let us consider Mangifera indica, Solanum\n",
    "tuberosum (potato) and Panthera leo (lion). All the three names, indica,\n",
    "tuberosum and leo, represent the specific epithets, while the first words\n",
    "Mangifera, Solanum and Panthera are genera and represents another\n",
    "higher level of taxon or category. Each genus may have one or more than\n",
    "one specific epithets representing different organisms, but having\n",
    "morphological similarities. For example, Panthera has another specific\n",
    "epithet called tigris and Solanum includes species like nigrum and\n",
    "2024-25\n",
    "THE LIVING WORLD 7\n",
    "melongena. Human beings belong to the species sapiens which is grouped\n",
    "in the genus Homo. The scientific name thus, for human being, is written\n",
    "as Homo sapiens.\n",
    "1.2.2 Genus\n",
    "Genus comprises a group of related species which has more characters\n",
    "in common in comparison to species of other genera. We can say that\n",
    "genera are aggregates of closely related species. For example, potato and\n",
    "brinjal are two different species but both belong to the genus Solanum.\n",
    "Lion (Panthera leo), leopard (P. pardus) and tiger (P. tigris) with several\n",
    "common features, are all species of the genus Panthera. This genus differs\n",
    "from another genus Felis which includes cats.\n",
    "1.2.3 Family\n",
    "The next category, Family, has a group of related genera with still less\n",
    "number of similarities as compared to genus and species. Families are\n",
    "characterised on the basis of both vegetative and reproductive features of\n",
    "plant species. Among plants for example, three different genera Solanum,\n",
    "Petunia and Datura are placed in the family Solanaceae. Among animals\n",
    "for example, genus Panthera, comprising lion, tiger, leopard is put along\n",
    "with genus, Felis (cats) in the family Felidae. Similarly, if you observe the\n",
    "features of a cat and a dog, you will find some similarities and some\n",
    "differences as well. They are separated into two different families – Felidae\n",
    "and Canidae, respectively.\n",
    "1.2.4 Order\n",
    "You have seen earlier that categories like species, genus and families are\n",
    "based on a number of similar characters. Generally, order and other\n",
    "higher taxonomic categories are identified based on the aggregates of\n",
    "characters. Order being a higher category, is the assemblage of families\n",
    "which exhibit a few similar characters. The similar characters are less in\n",
    "number as compared to different genera included in a family. Plant\n",
    "families like Convolvulaceae, Solanaceae are included in the order\n",
    "Polymoniales mainly based on the floral characters. The animal order,\n",
    "Carnivora, includes families like Felidae and Canidae.\n",
    "1.2.5 Class\n",
    "This category includes related orders. For example, order Primata\n",
    "comprising monkey, gorilla and gibbon is placed in class Mammalia along\n",
    "with order Carnivora that includes animals like tiger, cat and dog. Class\n",
    "Mammalia has other orders also.\n",
    "1.2.6 Phylum\n",
    "Classes comprising animals like fishes, amphibians, reptiles, birds along\n",
    "with mammals constitute the next higher category called Phylum. All\n",
    "2024-25\n",
    "8 BIOLOGY\n",
    "these, based on the common features like presence of notochord\n",
    "and dorsal hollow neural system, are included in phylum\n",
    "Chordata. In case of plants, classes with a few similar characters\n",
    "are assigned to a higher category called Division.\n",
    "1.2.7 Kingdom\n",
    "All animals belonging to various phyla are assigned to the\n",
    "highest category called Kingdom Animalia in the classification\n",
    "system of animals. The Kingdom Plantae, on the other hand, is\n",
    "distinct, and comprises all plants from various divisions.\n",
    "Henceforth, we will refer to these two groups as animal and\n",
    "plant kingdoms.\n",
    "The taxonomic categories from species to kingdom have been\n",
    "shown in ascending order starting with species in Figure 1.1.\n",
    "These are broad categories. However, taxonomists have also\n",
    "developed sub-categories in this hierarchy to facilitate more\n",
    "sound and scientific placement of various taxa.\n",
    "Look at the hierarchy in Figure 1.1. Can you recall the basis\n",
    "of arrangement? Say, for example, as we go higher from species\n",
    "to kingdom, the number of common characteristics goes on\n",
    "decreasing. Lower the taxa, more are the characteristics that the\n",
    "members within the taxon share. Higher the category, greater is\n",
    "the difficulty of determining the relationship to other taxa at the\n",
    "same level. Hence, the problem of classification becomes more\n",
    "complex.\n",
    "Table 1.1 indicates the taxonomic categories to which some\n",
    "common organisms like housefly, man, mango and wheat belong.\n",
    "Figure 1.1 T a x o n o m i c\n",
    "c a t e g o r i e s\n",
    "s h o w i n g\n",
    "h i e r a r c h i a l\n",
    "arrangement\n",
    "in ascending\n",
    "order\n",
    "Common Biological Genus Family Order Class Phylum/\n",
    "Name Name Division\n",
    "Man Homo sapiens Homo Hominidae Primata Mammalia Chordata\n",
    "Housefly Musca Musca Muscidae Diptera Insecta Arthropoda\n",
    "domestica\n",
    "Mango Mangifera Mangifera Anacardiaceae Sapindales Dicotyledonae Angiospermae\n",
    "indica\n",
    "Wheat Triticum Triticum Poaceae Poales Monocotyledonae Angiospermae\n",
    "aestivum\n",
    "TABLE 1.1 Organisms with their Taxonomic Categories\n",
    "2024-25\n",
    "THE LIVING WORLD 9\n",
    "S UMMARY\n",
    "The living world is rich in variety. Millions of plants and animals have been\n",
    "identified and described but a large number still remains unknown. The\n",
    "very range of organisms in terms of size, colour, habitat, physiological and\n",
    "morphological features make us seek the defining characteristics of living\n",
    "organisms. In order to facilitate the study of kinds and diversity of organisms,\n",
    "biologists have evolved certain rules and principles for identification,\n",
    "nomenclature and classification of organisms. The branch of knowledge\n",
    "dealing with these aspects is referred to as taxonomy. The taxonomic studies\n",
    "of various species of plants and animals are useful in agriculture, forestry,\n",
    "industry and in general for knowing our bio-resources and their diversity.\n",
    "The basics of taxonomy like identification, naming and classification of\n",
    "organisms are universally evolved under international codes. Based on the\n",
    "resemblances and distinct differences, each organism is identified and\n",
    "assigned a correct scientific/biological name comprising two words as per\n",
    "the binomial system of nomenclature. An organism represents/occupies a\n",
    "place or position in the system of classification. There are many categories/\n",
    "ranks and are generally referred to as taxonomic categories or taxa. All the\n",
    "categories constitute a taxonomic hierarchy.\n",
    "\"\"\""
   ]
  },
  {
   "cell_type": "code",
   "execution_count": 8,
   "metadata": {},
   "outputs": [
    {
     "name": "stdout",
     "output_type": "stream",
     "text": [
      "{'chapter': 'Unknown', 'chapter_name': 'Unknown', 'section': '1.1'}\n"
     ]
    }
   ],
   "source": [
    "print(tt.extract_metadata(text))"
   ]
  },
  {
   "cell_type": "code",
   "execution_count": null,
   "metadata": {},
   "outputs": [],
   "source": []
  },
  {
   "cell_type": "code",
   "execution_count": null,
   "metadata": {},
   "outputs": [],
   "source": []
  },
  {
   "cell_type": "code",
   "execution_count": null,
   "metadata": {},
   "outputs": [],
   "source": []
  },
  {
   "cell_type": "code",
   "execution_count": null,
   "metadata": {},
   "outputs": [],
   "source": []
  }
 ],
 "metadata": {
  "kernelspec": {
   "display_name": "bb-env",
   "language": "python",
   "name": "python3"
  },
  "language_info": {
   "codemirror_mode": {
    "name": "ipython",
    "version": 3
   },
   "file_extension": ".py",
   "mimetype": "text/x-python",
   "name": "python",
   "nbconvert_exporter": "python",
   "pygments_lexer": "ipython3",
   "version": "3.10.9"
  }
 },
 "nbformat": 4,
 "nbformat_minor": 2
}
